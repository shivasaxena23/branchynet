{
 "cells": [
  {
   "cell_type": "code",
   "execution_count": 1,
   "metadata": {
    "ExecuteTime": {
     "end_time": "2016-08-30T17:04:03.615918",
     "start_time": "2016-08-30T17:04:03.584784"
    },
    "collapsed": true
   },
   "outputs": [],
   "source": [
    "# %load_ext autoreload\n",
    "# %autoreload 2\n",
    "%matplotlib inline"
   ]
  },
  {
   "cell_type": "code",
   "execution_count": 2,
   "metadata": {
    "ExecuteTime": {
     "end_time": "2016-08-30T17:04:33.461371",
     "start_time": "2016-08-30T17:04:32.937702"
    },
    "collapsed": false
   },
   "outputs": [],
   "source": [
    "from branchynet.net import BranchyNet\n",
    "from branchynet.links import *\n",
    "import chainer.functions as F\n",
    "import chainer.links as L\n",
    "from branchynet import utils, visualize\n",
    "from chainer import cuda"
   ]
  },
  {
   "cell_type": "markdown",
   "metadata": {},
   "source": [
    "Define Network"
   ]
  },
  {
   "cell_type": "code",
   "execution_count": 3,
   "metadata": {
    "ExecuteTime": {
     "end_time": "2016-08-30T17:04:34.233898",
     "start_time": "2016-08-30T17:04:33.821360"
    },
    "collapsed": false
   },
   "outputs": [],
   "source": [
    "from networks import lenet_mnist\n",
    "branchyNet = lenet_mnist.get_network()\n",
    "branchyNet.to_cpu()\n",
    "branchyNet.training()"
   ]
  },
  {
   "cell_type": "markdown",
   "metadata": {},
   "source": [
    "Import Data"
   ]
  },
  {
   "cell_type": "code",
   "execution_count": 4,
   "metadata": {
    "ExecuteTime": {
     "end_time": "2016-08-30T17:04:36.742391",
     "start_time": "2016-08-30T17:04:34.847265"
    },
    "collapsed": false
   },
   "outputs": [
    {
     "name": "stderr",
     "output_type": "stream",
     "text": [
      "/home/shiva/anaconda3/envs/branchy/lib/python2.7/site-packages/sklearn/utils/deprecation.py:77: DeprecationWarning: Function fetch_mldata is deprecated; fetch_mldata was deprecated in version 0.20 and will be removed in version 0.22\n",
      "  warnings.warn(msg, category=DeprecationWarning)\n",
      "/home/shiva/anaconda3/envs/branchy/lib/python2.7/site-packages/sklearn/utils/deprecation.py:77: DeprecationWarning: Function mldata_filename is deprecated; mldata_filename was deprecated in version 0.20 and will be removed in version 0.22\n",
      "  warnings.warn(msg, category=DeprecationWarning)\n"
     ]
    }
   ],
   "source": [
    "from datasets import mnist\n",
    "x_train, y_train, x_test, y_test = mnist.get_data()"
   ]
  },
  {
   "cell_type": "markdown",
   "metadata": {},
   "source": [
    "Settings"
   ]
  },
  {
   "cell_type": "code",
   "execution_count": 5,
   "metadata": {
    "ExecuteTime": {
     "end_time": "2016-08-30T17:04:36.762787",
     "start_time": "2016-08-30T17:04:36.743275"
    },
    "collapsed": false
   },
   "outputs": [],
   "source": [
    "TRAIN_BATCHSIZE = 512\n",
    "TEST_BATCHSIZE = 1\n",
    "TRAIN_NUM_EPOCHS = 100"
   ]
  },
  {
   "cell_type": "markdown",
   "metadata": {},
   "source": [
    "Train Main Network"
   ]
  },
  {
   "cell_type": "code",
   "execution_count": null,
   "metadata": {
    "ExecuteTime": {
     "end_time": "2016-08-30T17:06:01.258431",
     "start_time": "2016-08-30T17:04:36.830718"
    },
    "collapsed": false
   },
   "outputs": [],
   "source": [
    "main_loss, main_acc, main_time = utils.train(branchyNet, x_train, y_train, main=True, batchsize=TRAIN_BATCHSIZE,\n",
    "                                             num_epoch=TRAIN_NUM_EPOCHS)"
   ]
  },
  {
   "cell_type": "markdown",
   "metadata": {},
   "source": [
    "Train BranchyNet"
   ]
  },
  {
   "cell_type": "code",
   "execution_count": null,
   "metadata": {
    "ExecuteTime": {
     "end_time": "2016-08-30T17:11:06.345265",
     "start_time": "2016-08-30T17:06:01.268848"
    },
    "collapsed": false,
    "scrolled": false
   },
   "outputs": [],
   "source": [
    "TRAIN_NUM_EPOCHS = 100\n",
    "branch_loss, branch_acc, branch_time = utils.train(branchyNet, x_train, y_train, batchsize=TRAIN_BATCHSIZE,\n",
    "                                                   num_epoch=TRAIN_NUM_EPOCHS)\n",
    "\n",
    "#set network to inference mode\n",
    "branchyNet.testing()"
   ]
  },
  {
   "cell_type": "markdown",
   "metadata": {},
   "source": [
    "Visualizing Network Training"
   ]
  },
  {
   "cell_type": "code",
   "execution_count": null,
   "metadata": {
    "ExecuteTime": {
     "end_time": "2016-08-30T17:11:06.835335",
     "start_time": "2016-08-30T17:11:06.348432"
    },
    "collapsed": false
   },
   "outputs": [],
   "source": [
    "visualize.plot_layers(main_loss, xlabel='Epochs', ylabel='Training Loss')\n",
    "visualize.plot_layers(main_acc, xlabel='Epochs', ylabel='Training Accuracy')"
   ]
  },
  {
   "cell_type": "code",
   "execution_count": null,
   "metadata": {
    "ExecuteTime": {
     "end_time": "2016-08-30T17:11:07.341112",
     "start_time": "2016-08-30T17:11:06.837397"
    },
    "collapsed": false
   },
   "outputs": [],
   "source": [
    "visualize.plot_layers(zip(*branch_loss), xlabel='Epochs', ylabel='Training Loss')\n",
    "visualize.plot_layers(zip(*branch_acc), xlabel='Epochs', ylabel='Training Accuracy')"
   ]
  },
  {
   "cell_type": "markdown",
   "metadata": {},
   "source": [
    "Run test suite and visualize"
   ]
  },
  {
   "cell_type": "code",
   "execution_count": null,
   "metadata": {
    "ExecuteTime": {
     "end_time": "2016-08-30T17:12:25.444980",
     "start_time": "2016-08-30T17:11:24.248544"
    },
    "collapsed": false
   },
   "outputs": [],
   "source": [
    "#set network to inference mode\n",
    "branchyNet.testing()\n",
    "branchyNet.verbose = False\n",
    "branchyNet.to_cpu()\n",
    "g_baseacc, g_basediff, _, _ = utils.test(branchyNet, x_test, y_test, main=True, batchsize=TEST_BATCHSIZE)\n",
    "g_basediff = (g_basediff / float(len(y_test))) * 1000.\n",
    "\n",
    "branchyNet.to_cpu()\n",
    "c_baseacc, c_basediff, _, _ = utils.test(branchyNet, x_test, y_test, main=True, batchsize=TEST_BATCHSIZE)\n",
    "c_basediff = (c_basediff / float(len(y_test))) * 1000."
   ]
  },
  {
   "cell_type": "code",
   "execution_count": null,
   "metadata": {
    "ExecuteTime": {
     "end_time": "2016-08-30T17:46:39.620682",
     "start_time": "2016-08-30T17:46:39.589059"
    },
    "collapsed": true
   },
   "outputs": [],
   "source": [
    "# Specify thresholds\n",
    "thresholds = [0.0001, 0.0005, 0.001, 0.005, 0.01, 0.025, 0.05, 0.075, 0.1, 0.25, 0.5, 0.75, 1., 2., 3., 5., 10.]"
   ]
  },
  {
   "cell_type": "code",
   "execution_count": null,
   "metadata": {
    "ExecuteTime": {
     "end_time": "2016-08-30T17:33:15.836122",
     "start_time": "2016-08-30T17:21:55.266512"
    },
    "collapsed": false
   },
   "outputs": [],
   "source": [
    "#GPU\n",
    "branchyNet.to_cpu()\n",
    "g_ts, g_accs, g_diffs, g_exits = utils.screen_branchy(branchyNet, x_test, y_test, thresholds,\n",
    "                                                    batchsize=TEST_BATCHSIZE, verbose=True)\n",
    "\n",
    "#convert to ms\n",
    "g_diffs *= 1000."
   ]
  },
  {
   "cell_type": "code",
   "execution_count": null,
   "metadata": {
    "collapsed": false
   },
   "outputs": [],
   "source": [
    "visualize.plot_line_tradeoff(g_accs, g_diffs, g_ts, g_exits, g_baseacc, g_basediff, all_samples=False, inc_amt=-0.0001,\n",
    "                             our_label='BranchyLeNet', orig_label='LeNet', xlabel='Runtime (ms)', \n",
    "                             title='LeNet GPU', output_path='_figs/lenet_gpu.pdf')"
   ]
  },
  {
   "cell_type": "code",
   "execution_count": null,
   "metadata": {
    "ExecuteTime": {
     "end_time": "2016-08-30T18:02:54.947789",
     "start_time": "2016-08-30T17:46:57.332119"
    },
    "collapsed": false
   },
   "outputs": [],
   "source": [
    "#CPU\n",
    "branchyNet.to_cpu()\n",
    "c_ts, c_accs, c_diffs, c_exits  = utils.screen_branchy(branchyNet, x_test, y_test, thresholds,\n",
    "                                                       batchsize=TEST_BATCHSIZE, verbose=True)\n",
    "\n",
    "#convert to ms\n",
    "c_diffs *= 1000."
   ]
  },
  {
   "cell_type": "code",
   "execution_count": null,
   "metadata": {
    "ExecuteTime": {
     "end_time": "2016-08-30T17:35:52.802997",
     "start_time": "2016-08-30T17:35:52.193698"
    },
    "collapsed": false
   },
   "outputs": [],
   "source": [
    "visualize.plot_line_tradeoff(c_accs, c_diffs, c_ts, c_exits, c_baseacc, c_basediff, all_samples=False, inc_amt=-0.0001,\n",
    "                             our_label='BranchyLeNet', orig_label='LeNet', xlabel='Runtime (ms)',\n",
    "                             title='LeNet CPU', output_path='_figs/lenet_cpu.pdf')"
   ]
  },
  {
   "cell_type": "code",
   "execution_count": null,
   "metadata": {
    "ExecuteTime": {
     "end_time": "2016-08-30T17:11:07.655674",
     "start_time": "2016-08-30T17:04:45.607Z"
    },
    "collapsed": false
   },
   "outputs": [],
   "source": [
    "print 'CPU Results:'\n",
    "utils.branchy_table_results('LeNet', c_baseacc, c_basediff, c_accs, c_diffs, c_exits, c_ts)\n",
    "\n",
    "print '\\n\\n'\n",
    "\n",
    "print 'GPU Results:'\n",
    "utils.branchy_table_results('LeNet-MNIST', g_baseacc, g_basediff, g_accs, c_diffs, g_exits, g_ts)"
   ]
  },
  {
   "cell_type": "markdown",
   "metadata": {},
   "source": [
    "Save model/data"
   ]
  },
  {
   "cell_type": "code",
   "execution_count": null,
   "metadata": {
    "collapsed": false
   },
   "outputs": [],
   "source": [
    "import dill\n",
    "branchyNet.to_cpu()\n",
    "with open(\"_models/lenet_mnist.bn\", \"wb\") as f:\n",
    "    dill.dump(branchyNet, f)\n",
    "with open(\"_models/lenet_mnist_gpu_results.pkl\", \"wb\") as f:\n",
    "    dill.dump({'accs': g_accs, 'rt': g_diffs, 'exits': g_exits, 'ts': g_ts, 'baseacc': g_baseacc, 'basediff': g_basediff}, f)\n",
    "with open(\"_models/lenet_mnist_cpu_results.pkl\", \"wb\") as f:\n",
    "    dill.dump({'accs': c_accs, 'rt': c_diffs, 'exits': c_exits, 'ts': c_ts, 'baseacc': c_baseacc, 'basediff': c_basediff}, f)"
   ]
  },
  {
   "cell_type": "code",
   "execution_count": null,
   "metadata": {
    "collapsed": false
   },
   "outputs": [],
   "source": [
    "import dill\n",
    "with open(\"_models/lenet_mnist_gpu_results.pkl\", \"rb\") as f:\n",
    "    gpu_res = dill.load(f)\n",
    "with open(\"_models/lenet_mnist_cpu_results.pkl\", \"rb\") as f:\n",
    "    cpu_res = dill.load(f)"
   ]
  }
 ],
 "metadata": {
  "anaconda-cloud": {},
  "kernelspec": {
   "display_name": "Python 2",
   "language": "python",
   "name": "python2"
  },
  "language_info": {
   "codemirror_mode": {
    "name": "ipython",
    "version": 2
   },
   "file_extension": ".py",
   "mimetype": "text/x-python",
   "name": "python",
   "nbconvert_exporter": "python",
   "pygments_lexer": "ipython2",
   "version": "2.7.16"
  }
 },
 "nbformat": 4,
 "nbformat_minor": 2
}
